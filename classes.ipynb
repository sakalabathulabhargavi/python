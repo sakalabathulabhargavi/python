{
 "cells": [
  {
   "cell_type": "code",
   "execution_count": 6,
   "id": "ac8a5dbc-8163-4f5f-beab-cd8377aa75fd",
   "metadata": {},
   "outputs": [
    {
     "name": "stdin",
     "output_type": "stream",
     "text": [
      "Enter the name: bhargavi\n",
      "Enter the marks: 30\n"
     ]
    },
    {
     "name": "stdout",
     "output_type": "stream",
     "text": [
      "Student name:bhargavi\n",
      "Student marks:30\n"
     ]
    }
   ],
   "source": [
    "class student:\n",
    "    def __init__(s,name,marks):\n",
    "        s.name=name\n",
    "        s.marks=marks\n",
    "    def display(self):\n",
    "        print(f\"Student name:{s.name}\")\n",
    "        print(f\"Student marks:{s.marks}\")\n",
    "name=str(input(\"Enter the name:\"))\n",
    "marks=int(input(\"Enter the marks:\"))\n",
    "s=student(name,marks)\n",
    "s.display()\n",
    "\n"
   ]
  },
  {
   "cell_type": "code",
   "execution_count": 16,
   "id": "d655b6ac-3274-411d-80b3-8bf34d9c5c4e",
   "metadata": {
    "scrolled": true
   },
   "outputs": [
    {
     "name": "stdin",
     "output_type": "stream",
     "text": [
      "Enter the name: bhargavi\n",
      "Enter the marks: 30\n"
     ]
    },
    {
     "name": "stdout",
     "output_type": "stream",
     "text": [
      "Student name:bhargavi\n",
      "Student marks:30\n"
     ]
    }
   ],
   "source": [
    "class student:\n",
    "    def __init__(s,name,marks):\n",
    "        s.name=name\n",
    "        s.marks=marks\n",
    "    @classmethod\n",
    "    def input(cls):\n",
    "        name=str(input(\"Enter the name:\"))\n",
    "        marks=int(input(\"Enter the marks:\"))\n",
    "        return cls(name,marks)\n",
    "    def display(self):\n",
    "        print(f\"Student name:{s.name}\")\n",
    "        print(f\"Student marks:{s.marks}\")\n",
    "s=student.input()\n",
    "s.display()\n"
   ]
  },
  {
   "cell_type": "code",
   "execution_count": 24,
   "id": "2c434cca-6cec-4d62-89fe-d9174840e3f0",
   "metadata": {},
   "outputs": [
    {
     "name": "stdin",
     "output_type": "stream",
     "text": [
      "Enter the product name: mysoor sandal soap\n",
      "Enter the base price: 55\n",
      "Enter tax_rate in %: 4\n"
     ]
    },
    {
     "name": "stdout",
     "output_type": "stream",
     "text": [
      " final price of mysoor sandal soap is R.57.20\n"
     ]
    }
   ],
   "source": [
    "class product:\n",
    "    def __init__(self,name,price):\n",
    "        self.name=name\n",
    "        self.price=price\n",
    "    def finalprice(self):\n",
    "        total=self.price*(1+product.tax_rate)\n",
    "        print(f\" final price of {self.name} is R.{total:.2f}\")\n",
    "    @classmethod\n",
    "    def settax(cls,rate):\n",
    "        cls.tax_rate= rate/100\n",
    "name=str(input(\"Enter the product name:\"))\n",
    "price=float(input(\"Enter the base price:\"))\n",
    "rate=int(input(\"Enter tax_rate in %:\"))\n",
    "product.settax(rate)\n",
    "item=product(name,price)\n",
    "item.finalprice()"
   ]
  },
  {
   "cell_type": "code",
   "execution_count": 30,
   "id": "d4552299-4770-4033-985c-c18e702e0c4f",
   "metadata": {},
   "outputs": [
    {
     "name": "stdin",
     "output_type": "stream",
     "text": [
      "Enter the value of a: 5\n",
      "Enter the value of b: 7\n"
     ]
    },
    {
     "name": "stdout",
     "output_type": "stream",
     "text": [
      "Addition result: 12\n"
     ]
    }
   ],
   "source": [
    "class calculator:\n",
    "    def __init__(s,a,b):\n",
    "        s.a=a\n",
    "        s.b=b\n",
    "    @classmethod\n",
    "    def input(cls):\n",
    "        a=int(input(\"Enter the value of a:\"))\n",
    "        b=int(input(\"Enter the value of b:\"))\n",
    "        return cls(a,b)\n",
    "    def add(s):\n",
    "        return s.a+s.b\n",
    "c=calculator.input()\n",
    "print(\"Addition result:\",c.add())"
   ]
  },
  {
   "cell_type": "code",
   "execution_count": 32,
   "id": "5e670274-7880-474c-b8b5-d8bad0ca74ed",
   "metadata": {},
   "outputs": [
    {
     "name": "stdin",
     "output_type": "stream",
     "text": [
      "Enter the value of a: 5\n",
      "Enter the value of b: 7\n"
     ]
    },
    {
     "name": "stdout",
     "output_type": "stream",
     "text": [
      "Addition: 12\n",
      "subtract: -2\n",
      "product: 35\n",
      "divsion: 0.7142857142857143\n"
     ]
    }
   ],
   "source": [
    "class calculator:\n",
    "    def __init__(s,a,b):\n",
    "        s.a=a\n",
    "        s.b=b\n",
    "    @classmethod\n",
    "    def input(cls):\n",
    "        a=int(input(\"Enter the value of a:\"))\n",
    "        b=int(input(\"Enter the value of b:\"))\n",
    "        return cls(a,b)\n",
    "    def op(s):\n",
    "        print(\"Addition:\",s.a+s.b)\n",
    "        print(\"subtract:\",s.a-s.b)\n",
    "        print(\"product:\",s.a*s.b)\n",
    "        print(\"divsion:\",s.a/s.b)\n",
    "c=calculator.input()\n",
    "c.op()"
   ]
  },
  {
   "cell_type": "code",
   "execution_count": 48,
   "id": "2ab081d0-ee67-47d8-bf61-8d6917354b4d",
   "metadata": {},
   "outputs": [
    {
     "name": "stdin",
     "output_type": "stream",
     "text": [
      "Enter your name: bharu\n",
      "Enter resident or non-resident: indian\n"
     ]
    },
    {
     "name": "stdout",
     "output_type": "stream",
     "text": [
      "name:bharu\n",
      "student gender: female\n",
      "the person is indian\n"
     ]
    }
   ],
   "source": [
    "class student:\n",
    "    gender='female'\n",
    "    def __init__(s,name):\n",
    "        s.name=name\n",
    "    def display(s):\n",
    "        print(f\"name:{s.name}\")\n",
    "    @classmethod\n",
    "    def getname(cls):\n",
    "        return cls.gender\n",
    "    @staticmethod\n",
    "    def resident(type_of_resident):\n",
    "        if type_of_resident.lower()=='indian':\n",
    "            return\"the person is indian\"\n",
    "        else:\n",
    "            return \"Non-resident indian\"\n",
    "name=str(input(\"Enter your name:\"))\n",
    "type=input(\"Enter resident or non-resident:\")\n",
    "s=student(name)\n",
    "s.display()\n",
    "print(\"student gender:\",student.getname())\n",
    "print(s.resident(type))\n"
   ]
  },
  {
   "cell_type": "code",
   "execution_count": 50,
   "id": "fb1243b7-fb79-4505-994d-f0dd6632aa82",
   "metadata": {},
   "outputs": [
    {
     "name": "stdin",
     "output_type": "stream",
     "text": [
      "Enter a value: 6\n",
      "Enter a value: 9\n"
     ]
    },
    {
     "name": "stdout",
     "output_type": "stream",
     "text": [
      "sum: 15\n"
     ]
    }
   ],
   "source": [
    "class op:\n",
    "    @staticmethod\n",
    "    def add(a,b):\n",
    "        return a+b\n",
    "x=int(input(\"Enter a value:\"))\n",
    "y=int(input(\"Enter a value:\"))\n",
    "print(\"sum:\",op.ad(x,y))"
   ]
  },
  {
   "cell_type": "code",
   "execution_count": 54,
   "id": "3d245cf8-f316-49a5-8332-cd34c5dbda0d",
   "metadata": {},
   "outputs": [
    {
     "name": "stdin",
     "output_type": "stream",
     "text": [
      "Enter a value: 7\n",
      "Enter a value: 9\n"
     ]
    },
    {
     "name": "stdout",
     "output_type": "stream",
     "text": [
      "add: 16\n",
      "sub: -2\n",
      "mul: 63\n",
      "div: 0.7777777777777778\n"
     ]
    }
   ],
   "source": [
    "class op:\n",
    "    @staticmethod\n",
    "    def input(a,b):\n",
    "        print(\"add:\",a+b)\n",
    "        print(\"sub:\",a-b)\n",
    "        print(\"mul:\",a*b)\n",
    "        print(\"div:\",a/b)\n",
    "x=int(input(\"Enter a value:\"))\n",
    "y=int(input(\"Enter a value:\"))\n",
    "op.input(x,y)\n"
   ]
  },
  {
   "cell_type": "code",
   "execution_count": 9,
   "id": "ea952c04-6410-440a-b4f5-697993f51cd5",
   "metadata": {},
   "outputs": [
    {
     "name": "stdin",
     "output_type": "stream",
     "text": [
      "enter a number: 7\n",
      "enter a number: 8\n"
     ]
    },
    {
     "name": "stdout",
     "output_type": "stream",
     "text": [
      "Addition-instance 15\n"
     ]
    },
    {
     "name": "stdin",
     "output_type": "stream",
     "text": [
      "enter number for mul: 7\n",
      "enter another number: 5\n"
     ]
    },
    {
     "name": "stdout",
     "output_type": "stream",
     "text": [
      "mul-instance 35\n"
     ]
    }
   ],
   "source": [
    "class calc:\n",
    "    def __init__(s,a,b):\n",
    "        s.a=a\n",
    "        s.b=b\n",
    "    def add(s):\n",
    "        return s.a+s.b\n",
    "    @classmethod\n",
    "    def input(cls):\n",
    "        a=int(input(\"enter a number:\"))\n",
    "        b=int(input(\"enter a number:\"))\n",
    "        return cls(a,b)\n",
    "    @staticmethod\n",
    "    def mul(x,y):\n",
    "        return x*y\n",
    "c=calc.input()\n",
    "print(\"Addition-instance\",c.add())\n",
    "x=int(input(\"enter number for mul:\"))\n",
    "y=int(input(\"enter another number:\"))\n",
    "print(\"mul-instance\",calc.mul(x,y))"
   ]
  },
  {
   "cell_type": "code",
   "execution_count": null,
   "id": "25f27012-01ab-4d9a-abe3-7bf47c83379b",
   "metadata": {},
   "outputs": [],
   "source": [
    ")"
   ]
  }
 ],
 "metadata": {
  "kernelspec": {
   "display_name": "Python 3 (ipykernel)",
   "language": "python",
   "name": "python3"
  },
  "language_info": {
   "codemirror_mode": {
    "name": "ipython",
    "version": 3
   },
   "file_extension": ".py",
   "mimetype": "text/x-python",
   "name": "python",
   "nbconvert_exporter": "python",
   "pygments_lexer": "ipython3",
   "version": "3.12.7"
  }
 },
 "nbformat": 4,
 "nbformat_minor": 5
}
