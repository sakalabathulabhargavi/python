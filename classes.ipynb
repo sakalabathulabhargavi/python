{
 "cells": [
  {
   "cell_type": "code",
   "execution_count": 1,
   "id": "043e039c-4a6a-4593-b1b1-8cb421f7b681",
   "metadata": {},
   "outputs": [
    {
     "name": "stdout",
     "output_type": "stream",
     "text": [
      "Engine started\n",
      "The car is being drove\n"
     ]
    }
   ],
   "source": [
    "'''single inhiretance'''\n",
    "class vehicle:\n",
    "    def start_engine(self):\n",
    "        print(\"Engine started\")\n",
    "class car(vehicle):\n",
    "    def drive(self):\n",
    "        print(\"The car is being drove\")\n",
    "c=car()\n",
    "c.start_engine()\n",
    "c.drive()"
   ]
  },
  {
   "cell_type": "code",
   "execution_count": 3,
   "id": "bb3529fb-e375-4548-aeb5-21bded89aa28",
   "metadata": {},
   "outputs": [
    {
     "name": "stdout",
     "output_type": "stream",
     "text": [
      "I am a student\n",
      "The student is studying\n"
     ]
    }
   ],
   "source": [
    "class person:\n",
    "    def info(self):\n",
    "        print(\"I am a student\")\n",
    "class student(person):\n",
    "    def study(self):\n",
    "        print(\"The student is studying\")\n",
    "s=student()\n",
    "s.info()\n",
    "s.study()"
   ]
  },
  {
   "cell_type": "code",
   "execution_count": 5,
   "id": "fdb092aa-27b3-41c9-8095-1dcafaab069f",
   "metadata": {},
   "outputs": [
    {
     "name": "stdin",
     "output_type": "stream",
     "text": [
      "enter the value of num1: 5\n",
      "Enter the value of num2: 6\n"
     ]
    },
    {
     "name": "stdout",
     "output_type": "stream",
     "text": [
      "The result is 11\n"
     ]
    }
   ],
   "source": [
    "'''code to perfor addition operation using superclass and user input and sub class as operation print the summated value at subclass'''\n",
    "(slf\n",
    "class operate:\n",
    "    def userdata(self):\n",
    "        self.num1=int(input(\"enter the value of num1:\"))\n",
    "        self.num2=int(input(\"Enter the value of num2:\"))\n",
    "class summate(operate):\n",
    "    def add(self):\n",
    "        result=self.num1+self.num2\n",
    "        print(f\"The result is {result}\")\n",
    "c=summate()\n",
    "c.userdata()\n",
    "c.add()"
   ]
  },
  {
   "cell_type": "code",
   "execution_count": 19,
   "id": "1ba97c41-fb69-40f0-ab4f-e55e5989df33",
   "metadata": {},
   "outputs": [
    {
     "name": "stdin",
     "output_type": "stream",
     "text": [
      "enter the value of num1: 4\n",
      "enter the value of num2: 8\n"
     ]
    },
    {
     "name": "stdout",
     "output_type": "stream",
     "text": [
      "the result is 0.5\n"
     ]
    }
   ],
   "source": [
    "# '''code to calculate ormal division by considering input in superclass and evalution in sub clss where zero division error must be handled'''\n",
    "class operate:\n",
    "    def userdata(self):\n",
    "        self.num1=int(input(\"enter the value of num1:\"))\n",
    "        self.num2=int(input(\"enter the value of num2:\"))\n",
    "class divider(operate):\n",
    "    def div(self):\n",
    "        try:\n",
    "            result=self.num1/self.num2\n",
    "            print(f\"the result is {result}\")\n",
    "        except ZeroDivisionError:\n",
    "            print(\"Error:\")\n",
    "c=divider()\n",
    "c.userdata()\n",
    "c.div()"
   ]
  },
  {
   "cell_type": "code",
   "execution_count": 45,
   "id": "8d840157-5481-4750-9336-b3cf2571e19a",
   "metadata": {},
   "outputs": [
    {
     "name": "stdin",
     "output_type": "stream",
     "text": [
      "Enter name:  bhargavi\n",
      "Enter employee ID:  14\n",
      "Enter department:  csm\n"
     ]
    },
    {
     "name": "stdout",
     "output_type": "stream",
     "text": [
      "Name: bhargavi\n",
      "Employee ID: 14\n",
      "Department: csm\n"
     ]
    }
   ],
   "source": [
    "class Intern:\n",
    "    def __init__(self, name):\n",
    "        self.name = name\n",
    "\n",
    "    def display_intern(self):\n",
    "        print(f\"Name: {self.name}\")\n",
    "\n",
    "class Employee(Intern):\n",
    "    def __init__(self, name, emp_id):\n",
    "        super().__init__(name)\n",
    "        self.emp_id = emp_id\n",
    "\n",
    "    def display_employee(self):\n",
    "        print(f\"Employee ID: {self.emp_id}\")\n",
    "\n",
    "class Manager(Employee):\n",
    "    def __init__(self, name, emp_id, dept):\n",
    "        super().__init__(name, emp_id)\n",
    "        self.dept = dept\n",
    "\n",
    "    def display_manager(self):\n",
    "        print(f\"Department: {self.dept}\")\n",
    "    def display_details(self):\n",
    "        self.display_intern()\n",
    "        self.display_employee()\n",
    "        self.display_manager()\n",
    "name = input(\"Enter name: \")\n",
    "emp_id = input(\"Enter employee ID: \")\n",
    "dept = input(\"Enter department: \")\n",
    "\n",
    "m = Manager(name, emp_id, dept)\n",
    "m.display_details()\n"
   ]
  },
  {
   "cell_type": "code",
   "execution_count": null,
   "id": "d4f1b69e-108b-4269-b2da-0dbdb93b94de",
   "metadata": {},
   "outputs": [],
   "source": [
    "class Input:\n",
    "    def __init__(self):\n",
    "        self.num1=float(input(\"Enter num1:\")"
   ]
  }
 ],
 "metadata": {
  "kernelspec": {
   "display_name": "Python 3 (ipykernel)",
   "language": "python",
   "name": "python3"
  },
  "language_info": {
   "codemirror_mode": {
    "name": "ipython",
    "version": 3
   },
   "file_extension": ".py",
   "mimetype": "text/x-python",
   "name": "python",
   "nbconvert_exporter": "python",
   "pygments_lexer": "ipython3",
   "version": "3.12.7"
  }
 },
 "nbformat": 4,
 "nbformat_minor": 5
}
