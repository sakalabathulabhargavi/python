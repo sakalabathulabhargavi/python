{
 "cells": [
  {
   "cell_type": "code",
   "execution_count": 7,
   "id": "96a8ac01-c70a-477f-963f-2282a9fae3e7",
   "metadata": {},
   "outputs": [
    {
     "name": "stdin",
     "output_type": "stream",
     "text": [
      "Enter rows: 4\n"
     ]
    },
    {
     "name": "stdout",
     "output_type": "stream",
     "text": [
      "*\n",
      "**\n",
      "***\n",
      "****\n"
     ]
    }
   ],
   "source": [
    "rows=int(input(\"Enter rows:\"))\n",
    "pattern=[''.join(['*'for _ in range(i)]) for i in range(1,rows+1)]\n",
    "for line in pattern:\n",
    "    print(line)"
   ]
  },
  {
   "cell_type": "code",
   "execution_count": 11,
   "id": "17b87ba7-f939-4cf3-b25d-e08f0d440740",
   "metadata": {},
   "outputs": [
    {
     "name": "stdin",
     "output_type": "stream",
     "text": [
      "Enter rows: 7\n"
     ]
    },
    {
     "name": "stdout",
     "output_type": "stream",
     "text": [
      "a\n",
      "ab\n",
      "abc\n",
      "abcd\n",
      "abcde\n",
      "abcdef\n",
      "abcdefg\n"
     ]
    }
   ],
   "source": [
    "rows=int(input(\"Enter rows:\"))\n",
    "pattern=[''.join([chr(97+j)for j in range(i)]) for i in range(1,rows+1)]\n",
    "for line in pattern:\n",
    "    print(line)"
   ]
  },
  {
   "cell_type": "code",
   "execution_count": 13,
   "id": "ec90fbd2-2035-4a0f-86c7-bc8ae2274ed5",
   "metadata": {},
   "outputs": [
    {
     "name": "stdin",
     "output_type": "stream",
     "text": [
      "Enter rows: 6\n"
     ]
    },
    {
     "name": "stdout",
     "output_type": "stream",
     "text": [
      "123456\n",
      "12345\n",
      "1234\n",
      "123\n",
      "12\n",
      "1\n"
     ]
    }
   ],
   "source": [
    "rows=int(input(\"Enter rows:\"))\n",
    "pattern=[''.join([str(num)for num in range(1,rows-i+1)]) for i in range(rows)]\n",
    "for line in pattern:\n",
    "    print(line)"
   ]
  },
  {
   "cell_type": "code",
   "execution_count": 13,
   "id": "84c14cda-1e8b-4ce1-ac80-5e4035c0f62c",
   "metadata": {},
   "outputs": [
    {
     "name": "stdin",
     "output_type": "stream",
     "text": [
      "Enter rows: 5\n"
     ]
    },
    {
     "name": "stdout",
     "output_type": "stream",
     "text": [
      "* * * * *\n",
      "*       *\n",
      "*       *\n",
      "*       *\n",
      "* * * * *\n"
     ]
    }
   ],
   "source": [
    "n=int(input(\"Enter rows:\"))\n",
    "pattern=[['*' if i==0 or i==n-1 or j==0 or j==n-1 else ' ' for i in range(n)] for j in range(n)]\n",
    "for i in pattern:\n",
    "    print(' '.join(i))"
   ]
  },
  {
   "cell_type": "code",
   "execution_count": null,
   "id": "a67269f3-3b99-408b-9cb0-51c83600b169",
   "metadata": {},
   "outputs": [],
   "source": [
    "n=int(input(\"Enter rows:\"))\n",
    "pattern=[['*' if i==0 or i==n-1 or j==0 or j==n-1 else ' ' for i in range(n)] for j in range(n)]\n",
    "for i in pattern:\n",
    "    print(' '.join(i))"
   ]
  },
  {
   "cell_type": "code",
   "execution_count": 17,
   "id": "c592a9d8-9a00-4963-80f4-a33fc4e665d6",
   "metadata": {},
   "outputs": [
    {
     "name": "stdin",
     "output_type": "stream",
     "text": [
      "Enter rows: 5\n"
     ]
    },
    {
     "name": "stdout",
     "output_type": "stream",
     "text": [
      "     *\n",
      "    * *\n",
      "   *   *\n",
      "  *     *\n",
      " *       *\n",
      "  *     *  \n",
      "   *   *    \n",
      "    * *      \n",
      "     *        \n"
     ]
    }
   ],
   "source": [
    "n=int(input(\"Enter rows:\"))\n",
    "upper=[' '*(n-i)+''.join('*' if j==0 or j==2*i else' ' for j in range(2*i+1)) for i in range(n)]\n",
    "lower=[' '*(i+2)+''.join('*' if j==0 or j==2*(n-i-2) else' ' for j in range(2*n-1)) for i in range(n-1)]\n",
    "for line in upper+lower:\n",
    "    print(line)"
   ]
  },
  {
   "cell_type": "code",
   "execution_count": null,
   "id": "42127227-add1-4d43-8e9a-8bf4df5b1d9d",
   "metadata": {},
   "outputs": [],
   "source": []
  }
 ],
 "metadata": {
  "kernelspec": {
   "display_name": "Python 3 (ipykernel)",
   "language": "python",
   "name": "python3"
  },
  "language_info": {
   "codemirror_mode": {
    "name": "ipython",
    "version": 3
   },
   "file_extension": ".py",
   "mimetype": "text/x-python",
   "name": "python",
   "nbconvert_exporter": "python",
   "pygments_lexer": "ipython3",
   "version": "3.12.7"
  }
 },
 "nbformat": 4,
 "nbformat_minor": 5
}
