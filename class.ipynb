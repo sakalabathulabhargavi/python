{
 "cells": [
  {
   "cell_type": "code",
   "execution_count": 7,
   "id": "3f133423-5917-45c4-b574-a1b2307a1cf0",
   "metadata": {},
   "outputs": [
    {
     "name": "stdout",
     "output_type": "stream",
     "text": [
      "Even mutable list: [32, 44, 66]\n",
      "Odd mutable list: [21, 55]\n"
     ]
    }
   ],
   "source": [
    "class number:\n",
    "    evens=[]\n",
    "    odds=[]\n",
    "    def __init__(self,num):\n",
    "        self.num=num\n",
    "        if num%2 == 0:\n",
    "            number.evens.append(num)\n",
    "        else:\n",
    "            number.odds.append(num)\n",
    "n1=number(21)\n",
    "n2=number(32)\n",
    "n3=number(44)\n",
    "n4=number(55)\n",
    "n5=number(66)\n",
    "print(\"Even mutable list:\",number.evens)\n",
    "print(\"Odd mutable list:\",number.odds)"
   ]
  },
  {
   "cell_type": "code",
   "execution_count": 11,
   "id": "9382e3d4-4cfa-4f36-aeba-dec36d152468",
   "metadata": {},
   "outputs": [
    {
     "name": "stdin",
     "output_type": "stream",
     "text": [
      "Enter the alue of n: 5\n"
     ]
    },
    {
     "name": "stdout",
     "output_type": "stream",
     "text": [
      "given value: 5\n",
      "given value: 25\n"
     ]
    }
   ],
   "source": [
    "def op(x):\n",
    "    return x**2\n",
    "class abc():\n",
    "    def __init__(self,val):\n",
    "        self.val=val\n",
    "    def display(self):\n",
    "        print(\"given value:\",self.val)\n",
    "    def modify(self):\n",
    "        self.val=op(self.val)\n",
    "n=int(input(\"Enter the alue of n:\"))\n",
    "o=abc(n)\n",
    "o.display()\n",
    "o.modify()\n",
    "o.display()\n",
    "\n",
    "    "
   ]
  },
  {
   "cell_type": "code",
   "execution_count": 15,
   "id": "5a846b46-8ab1-4ed0-972d-79e64816a1a0",
   "metadata": {},
   "outputs": [
    {
     "name": "stdin",
     "output_type": "stream",
     "text": [
      "Enter n1: 4\n",
      "Enter n2: 5\n"
     ]
    },
    {
     "name": "stdout",
     "output_type": "stream",
     "text": [
      "Object.__dict__- {'var1': 4, 'var2': 5}\n",
      "Object.__doc__- None\n",
      "class.__name__- abc\n",
      "Object.__module__- __main__\n",
      "class.__base__- <class 'object'>\n"
     ]
    }
   ],
   "source": [
    "class abc():\n",
    "    def __init__(self,var1,var2):\n",
    "        self.var1=var1\n",
    "        self.var2=var2\n",
    "    def display(self):\n",
    "        print(\"var1:\",self.var1)\n",
    "        print(\"var2:\",self.var2)\n",
    "n1=int(input(\"Enter n1:\"))\n",
    "n2=int(input(\"Enter n2:\"))\n",
    "o=abc(n1,n2)\n",
    "print(\"Object.__dict__-\", o.__dict__)\n",
    "print(\"Object.__doc__-\", o.__doc__)\n",
    "print(\"class.__name__-\",abc.__name__)\n",
    "print(\"Object.__module__-\",o.__module__)\n",
    "print(\"class.__base__-\",abc.__base__)\n",
    "      \n"
   ]
  },
  {
   "cell_type": "code",
   "execution_count": 17,
   "id": "d8e2abd1-eb97-4647-8fec-f02a6ec91de4",
   "metadata": {},
   "outputs": [
    {
     "name": "stdout",
     "output_type": "stream",
     "text": [
      "<class 'type'>\n",
      "1704\n",
      "48\n"
     ]
    }
   ],
   "source": [
    "import sys\n",
    "class A:\n",
    "    num=10\n",
    "a=A()\n",
    "print(type(A))\n",
    "print(sys.getsizeof(A))\n",
    "print(sys.getsizeof(a))"
   ]
  },
  {
   "cell_type": "code",
   "execution_count": 23,
   "id": "ec9cbc59-ec17-46cc-8582-90626f33dd9a",
   "metadata": {},
   "outputs": [
    {
     "name": "stdin",
     "output_type": "stream",
     "text": [
      "Enter 4-digit pin: 1234\n",
      "Enter amount to debit: 4000\n"
     ]
    },
    {
     "name": "stdout",
     "output_type": "stream",
     "text": [
      "4000 debited. Remaining balance Rs.1000\n"
     ]
    }
   ],
   "source": [
    "class ATM:\n",
    "    def __init__(self):\n",
    "        self.balance=5000\n",
    "        self.pin=\"1234\"\n",
    "    def process(self):\n",
    "        user_pin=input(\"Enter 4-digit pin:\")\n",
    "        if user_pin==self.pin:\n",
    "            amount=int(input(\"Enter amount to debit:\"))\n",
    "            if amount<=self.balance:\n",
    "                self.balance-=amount\n",
    "                print(f\"{amount} debited. Remaining balance Rs.{self.balance}\")\n",
    "            else:\n",
    "                print(\"Insufficient funds!!!!. transaction cancelled.\")\n",
    "        else:\n",
    "            print(\"Pin Incorrect\")\n",
    "atm=ATM()\n",
    "atm.process()"
   ]
  },
  {
   "cell_type": "code",
   "execution_count": null,
   "id": "be482973-e783-4572-a20a-6c28e677e396",
   "metadata": {},
   "outputs": [],
   "source": []
  }
 ],
 "metadata": {
  "kernelspec": {
   "display_name": "Python 3 (ipykernel)",
   "language": "python",
   "name": "python3"
  },
  "language_info": {
   "codemirror_mode": {
    "name": "ipython",
    "version": 3
   },
   "file_extension": ".py",
   "mimetype": "text/x-python",
   "name": "python",
   "nbconvert_exporter": "python",
   "pygments_lexer": "ipython3",
   "version": "3.12.7"
  }
 },
 "nbformat": 4,
 "nbformat_minor": 5
}
